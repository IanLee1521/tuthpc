{
 "cells": [
  {
   "cell_type": "markdown",
   "metadata": {},
   "source": [
    "# Exercise: now in parallel"
   ]
  },
  {
   "cell_type": "code",
   "execution_count": 30,
   "metadata": {
    "collapsed": false
   },
   "outputs": [
    {
     "name": "stdout",
     "output_type": "stream",
     "text": [
      "optimizing W,L for symmetric=True\n",
      "we define optimality with (4*profited + survived)/5\n",
      "\n",
      "best: 12.3333333333 @ (5.2954808091448538, 5.2954808091448538)\n",
      "best: 21.2666666667 @ (3.8977832401318593, 3.8977832401318593)\n",
      "best: 33.1333333333 @ (2.897523790268695, 2.897523790268695)\n",
      "best: 37.5333333333 @ (2.9963608076334802, 2.9963608076334802)\n",
      "best: 75.5333333333 @ (1.7737868730422826, 1.7737868730422826)\n",
      "10.00% done\n",
      "best: 76.7333333333 @ (1.7992143869754553, 1.7992143869754553)\n",
      "best: 77.4666666667 @ (1.7283323434489248, 1.7283323434489248)\n",
      "20.00% done\n",
      "30.00% done\n",
      "40.00% done\n",
      "50.00% done\n",
      "60.00% done\n",
      "70.00% done\n",
      "80.00% done\n",
      "90.00% done\n",
      "100.00% done\n",
      "\n",
      "time: 12.2723178864\n"
     ]
    }
   ],
   "source": [
    "!python2.7 optimize.py"
   ]
  },
  {
   "cell_type": "code",
   "execution_count": 4,
   "metadata": {
    "collapsed": false
   },
   "outputs": [
    {
     "name": "stdout",
     "output_type": "stream",
     "text": [
      "Overwriting roll.py\n"
     ]
    }
   ],
   "source": [
    "%%file roll.py\n",
    "\"\"\"\n",
    "rolls a slightly biased (100-sided) die\n",
    "\"\"\"\n",
    "\n",
    "import random\n",
    "import numpy as np\n",
    "import numpy.random as npr\n",
    "import state\n",
    "\n",
    "def win(x):\n",
    "    '''\n",
    "    a simple win/loss: where win if (100 > x > 50)\n",
    "    '''\n",
    "    return int(bool(100 > x > 50))\n",
    "\n",
    "\n",
    "def die():\n",
    "    '''     \n",
    "    a simple win/loss: where win if (100 > random(1,100) > 50)\n",
    "    '''         \n",
    "    rng = state.random_state(module=random)\n",
    "    return win(rng.randint(1,100))\n",
    "\n",
    "\n",
    "_win = np.vectorize(win)\n",
    "\n",
    "\n",
    "def dice(N=1):\n",
    "    '''\n",
    "    a simple win/loss: where win if (100 > random(1,100,N) > 50)\n",
    "    '''\n",
    "    rng = state.random_state(module=npr)\n",
    "    return _win(rng.randint(1,100,N))\n",
    "\n",
    "\n",
    "def many_die(N=1):\n",
    "    '''roll simple (biased) win/loss N times'''\n",
    "    rolls = []\n",
    "    for i in range(N):\n",
    "        rolls.append(die())\n",
    "    return rolls\n",
    "\n",
    "\n",
    "# EOF"
   ]
  },
  {
   "cell_type": "code",
   "execution_count": 40,
   "metadata": {
    "collapsed": false
   },
   "outputs": [
    {
     "name": "stdout",
     "output_type": "stream",
     "text": [
      "[0, 1, 0, 1, 1, 1, 1, 1, 0, 1, 0, 0, 1, 0, 0, 0, 1, 0, 1, 0, 1, 1, 1, 0, 1]\n",
      "0.000175952911377: loop\n",
      "[1 1 1 1 1 0 1 0 0 1 1 1 0 0 1 0 0 0 1 0 0 0 1 0 1]\n",
      "0.00055193901062: vector\n",
      "[1 0 0 1 0 1 1 0 0 0 0 1 0 0 0 0 0 0 1 0 0 0 0 0 0]\n",
      "0.00357294082642: pool\n"
     ]
    }
   ],
   "source": [
    "# %load use_roll.py\n",
    "\"\"\"\n",
    "usage testing of roll\n",
    "\"\"\"\n",
    "\n",
    "import roll\n",
    "\n",
    "def multi_roll(N, pool):\n",
    "    _die = lambda i:roll.die()\n",
    "    rolls = np.asarray(pool.map(_die, xrange(N)), int)\n",
    "    return rolls\n",
    "\n",
    "\n",
    "if __name__ == '__main__':\n",
    "    N = 25\n",
    "    \n",
    "    import time\n",
    "    import pathos\n",
    "    pool = pathos.pools.ThreadPool()\n",
    "\n",
    "    start = time.time()\n",
    "    print(roll.many_die(N))\n",
    "    print \"%s: loop\" % (time.time() - start)\n",
    "    \n",
    "    start = time.time()\n",
    "    print(roll.dice(N))\n",
    "    print \"%s: vector\" % (time.time() - start)\n",
    "    \n",
    "    start = time.time()\n",
    "    print(multi_roll(N, pool))\n",
    "    print \"%s: pool\" % (time.time() - start)\n",
    "    pool.close()\n",
    "    pool.join()\n",
    "\n",
    "    \n",
    "# EOF"
   ]
  },
  {
   "cell_type": "code",
   "execution_count": 5,
   "metadata": {
    "collapsed": false
   },
   "outputs": [
    {
     "name": "stdout",
     "output_type": "stream",
     "text": [
      "Overwriting trials.py\n"
     ]
    }
   ],
   "source": [
    "%%file trials.py\n",
    "\"\"\"\n",
    "monte carlo trials for betting strategies, and measures of success\n",
    "\"\"\"\n",
    "\n",
    "import numpy as np\n",
    "\n",
    "\n",
    "def monte(bettor, initial_funds, initial_bet, number_bets, number_players, W,L, pool=None):\n",
    "    \"monte carlo run for a betting strategy\"\n",
    "    if pool:\n",
    "        _bettor = lambda i:bettor(initial_funds, initial_bet, number_bets, W,L)\n",
    "        return np.array(pool.map(_bettor, xrange(number_players)))\n",
    "\n",
    "    history = []\n",
    "    while len(history) < number_players:\n",
    "        history.append(bettor(initial_funds, initial_bet, number_bets, W,L))\n",
    "    return np.array(history)\n",
    "\n",
    "\n",
    "def alive(history, number_players):\n",
    "    \"find the percentage of players that are not broke\"\n",
    "    return 100. * sum(np.asarray(history, bool).T[-1])/number_players\n",
    "\n",
    "\n",
    "def gains(history, number_players, initial_funds):\n",
    "    \"find the percentage of players that have profited\"\n",
    "    return 100. * sum(history.T[-1] > initial_funds)/number_players\n",
    "\n",
    "\n",
    "def profit(history, number_players, initial_funds):\n",
    "    \"find the total profit\"\n",
    "    return np.max(history.T[-1]) - initial_funds\n",
    "\n",
    "\n",
    "def margin(history, number_players, initial_funds):\n",
    "    \"find the percentage the return on investment is over the initial funds\"\n",
    "    initial = number_players * initial_funds\n",
    "    return 100.* (sum(history.T[-1]) - initial)/initial\n",
    "\n",
    "\n",
    "# EOF"
   ]
  },
  {
   "cell_type": "code",
   "execution_count": 59,
   "metadata": {
    "collapsed": false
   },
   "outputs": [
    {
     "name": "stdout",
     "output_type": "stream",
     "text": [
      "Overwriting optimize.py\n"
     ]
    }
   ],
   "source": [
    "%%file optimize.py\n",
    "'''\n",
    "monte carlo optimization of betting strategies for a given quantitative measure\n",
    "'''\n",
    "\n",
    "import numpy as np\n",
    "import strategy\n",
    "\n",
    "\n",
    "def monte_stats(bettor, initial_funds, initial_bet, number_bets, number_players, W,L, pool=None):\n",
    "    \"get the desired stats from a monte carlo run\"\n",
    "    import numpy as np\n",
    "    from trials import monte, alive, gains, profit, margin\n",
    "    settings = np.seterr(over='ignore', invalid='ignore')\n",
    "    history = monte(bettor, initial_funds, initial_bet, number_bets, number_players, W,L, pool)\n",
    "    survived = alive(history, number_players)\n",
    "    profited = gains(history, number_players, initial_funds)\n",
    "    max_profit = profit(history, number_players, initial_funds)\n",
    "    ave_profit = margin(history, number_players, initial_funds)\n",
    "    np.seterr(**settings)\n",
    "    return survived, profited, max_profit, ave_profit\n",
    "\n",
    "\n",
    "def safety_metric(initial_funds, survived, profited, max_profit, ave_profit):\n",
    "    \"we define optimality with (4*profited + survived)/5\"\n",
    "    return (4*profited + survived)/5\n",
    "\n",
    "\n",
    "def profit_metric(initial_funds, survived, profited, max_profit, ave_profit):\n",
    "    \"we define optimality with (max_profit - ave_profit)\"\n",
    "    return max_profit - (np.mean(ave_profit) * initial_funds)\n",
    "\n",
    "\n",
    "def optimize_WL(metric, players=100, funds=None, bet=None, number_bets=None, symmetric=False, \n",
    "                                                           outerPool=None, innerPool=None):\n",
    "    \"soewhat hacky Monte Carlo optimization of betting parameters for martingale strategy\"\n",
    "    samples = int(np.random.uniform(100., 1000.)) if players is None else int(players)\n",
    "    if funds is None: funds = np.random.uniform(1000. ,1000000.)\n",
    "    if bet is None: bet = np.random.uniform(1. ,1000.)\n",
    "    number_bets = int(np.random.uniform(10.,10000.)) if number_bets is None else int(number_bets)\n",
    "    bettor = strategy.martingale\n",
    "    \n",
    "    W = np.random.uniform(0.1, 10., samples)\n",
    "    L = W if symmetric else np.random.uniform(0.1, 10., samples)\n",
    "\n",
    "    if outerPool is None:\n",
    "        import pathos\n",
    "        outerPool = pathos.pools.SerialPool\n",
    "    if innerPool:\n",
    "        innerPool = innerPool()\n",
    "    \n",
    "    def measure(W,L, pool):\n",
    "        \"let's hide this, because it's ugly (*groan*)\" # good indicator a class should be built\n",
    "        return safety_metric(funds, *monte_stats(bettor, funds, bet, number_bets, samples, W,L, pool))\n",
    "    \n",
    "    # use imap to run the monte carlo, because it's cool\n",
    "    p = outerPool()\n",
    "    results = p.imap(measure, W,L, [innerPool]*samples)\n",
    "\n",
    "    i = 0\n",
    "    best_result = 0.0\n",
    "    best_value = W[0],L[0]\n",
    "    for result in results:\n",
    "        if result > best_result:\n",
    "            best_result = result\n",
    "            best_value = W[i],L[i]\n",
    "            print \"best: %s @ %s\" % (best_result, best_value)\n",
    "        i += 1\n",
    "        if not i%np.floor_divide(samples, 10):\n",
    "            print \"{:.2f}% done\".format(100. * i / samples)\n",
    "            \n",
    "    p.close()\n",
    "    p.join()\n",
    "    if innerPool:\n",
    "        innerPool.close()\n",
    "        innerPool.join()\n",
    "    return best_value\n",
    "\n",
    "\n",
    "if __name__ == '__main__':\n",
    "    import pathos\n",
    "    #oPool = pathos.pools.ParallelPool\n",
    "    oPool = pathos.pools.ProcessPool\n",
    "    iPool = None\n",
    "    \n",
    "    initial_funds = 10000\n",
    "    initial_bet = 100\n",
    "    number_bets = 100\n",
    "    number_players = 300    # XXX: THIS SHOULD BE MUCH LARGER\n",
    "    metric = safety_metric\n",
    "    symmetric = True\n",
    "\n",
    "    import time\n",
    "    print \"optimizing W,L for symmetric=%s\\n%s\\n\" % (symmetric, metric.__doc__)\n",
    "    start = time.time()\n",
    "    optimize_WL(metric, number_players, initial_funds, initial_bet, number_bets, symmetric, \n",
    "                                                                                 oPool, iPool)\n",
    "    print \"\\ntime: %s\" % (time.time() - start)\n",
    "\n",
    "\n",
    "# EOF"
   ]
  },
  {
   "cell_type": "code",
   "execution_count": 2,
   "metadata": {
    "collapsed": false
   },
   "outputs": [
    {
     "name": "stdout",
     "output_type": "stream",
     "text": [
      "optimizing W,L for symmetric=True\n",
      "we define optimality with (4*profited + survived)/5\n",
      "\n",
      "best: 17.0666666667 @ (4.3813960767315105, 4.3813960767315105)\n",
      "best: 73.5333333333 @ (1.5801859624522592, 1.5801859624522592)\n",
      "10.00% done\n",
      "20.00% done\n",
      "30.00% done\n",
      "40.00% done\n",
      "50.00% done\n",
      "60.00% done\n",
      "best: 75.6 @ (1.7481916493807834, 1.7481916493807834)\n",
      "70.00% done\n",
      "80.00% done\n",
      "best: 75.7333333333 @ (1.715356516351312, 1.715356516351312)\n",
      "90.00% done\n",
      "100.00% done\n",
      "\n",
      "time: 4.05974698067\n"
     ]
    }
   ],
   "source": [
    "!python2.7 optimize.py"
   ]
  },
  {
   "cell_type": "code",
   "execution_count": null,
   "metadata": {
    "collapsed": true
   },
   "outputs": [],
   "source": []
  }
 ],
 "metadata": {
  "kernelspec": {
   "display_name": "Python 2",
   "language": "python",
   "name": "python2"
  },
  "language_info": {
   "codemirror_mode": {
    "name": "ipython",
    "version": 2
   },
   "file_extension": ".py",
   "mimetype": "text/x-python",
   "name": "python",
   "nbconvert_exporter": "python",
   "pygments_lexer": "ipython2",
   "version": "2.7.10"
  }
 },
 "nbformat": 4,
 "nbformat_minor": 0
}
