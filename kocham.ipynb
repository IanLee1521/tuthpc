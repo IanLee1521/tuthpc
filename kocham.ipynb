{
 "cells": [
  {
   "cell_type": "markdown",
   "metadata": {},
   "source": [
    "# Exercise: cracking a password"
   ]
  },
  {
   "cell_type": "markdown",
   "metadata": {},
   "source": [
    "The following requires you first install `kocham`, which can be found as a zipfile in the tutorial repository.  Python 2.7 is required.  If the install fails, try installing `setuptools` first."
   ]
  },
  {
   "cell_type": "code",
   "execution_count": null,
   "metadata": {
    "collapsed": true
   },
   "outputs": [],
   "source": [
    "$ unzip kocham.zip\n",
    "$ cd kocham\n",
    "$ python setup.py install"
   ]
  },
  {
   "cell_type": "code",
   "execution_count": 1,
   "metadata": {
    "collapsed": true
   },
   "outputs": [],
   "source": [
    "\"\"\"\n",
    "a toy password cracker\n",
    "\"\"\"\n",
    "import time\n",
    "import itertools\n",
    "from multiprocess.dummy import Pool\n",
    "import kocham.imap as imap\n",
    "import kocham.corpus as corpus\n",
    "stopwords = corpus.stopwords\n",
    "ipassword = corpus.ipassword\n",
    "compare = imap.login\n",
    "\n",
    "# turn on verbosity\n",
    "corpus.VERBOSE = True\n",
    "\n",
    "# set the password to \"solve\"\n",
    "imap.setpass('catdog@123')\n",
    "\n",
    "# set a delay, to simulate connection time to a server\n",
    "imap.setdelay(0.0)\n",
    "\n",
    "# select a list of possible words and a possible set of characters\n",
    "words = ['cat','dog','horse','apple','foo','bar','python','phobia']\n",
    "chars = '1234567890!@#$'\n",
    "\n",
    "# configure the minimum and maximum password length\n",
    "args = (words, chars, 8, 10)\n",
    "# configure the minimum and maximum word length, and the maximum number of words\n",
    "kwds = dict(minword=3, maxword=8, size=2)"
   ]
  },
  {
   "cell_type": "code",
   "execution_count": 2,
   "metadata": {
    "collapsed": false
   },
   "outputs": [
    {
     "name": "stdout",
     "output_type": "stream",
     "text": [
      "horsehorse: {base:10, char:(0,0), subs: 0, sep: 0}\n",
      "horsebar: {base:8, char:(0,2), subs: 0, sep: 0}\n",
      "horseapple: {base:10, char:(0,0), subs: 0, sep: 0}\n",
      "horsedog: {base:8, char:(0,2), subs: 0, sep: 0}\n",
      "horsecat: {base:8, char:(0,2), subs: 0, sep: 0}\n",
      "horsefoo: {base:8, char:(0,2), subs: 0, sep: 0}\n",
      "phobiabar: {base:9, char:(0,1), subs: 0, sep: 0}\n",
      "phobiadog: {base:9, char:(0,1), subs: 0, sep: 0}\n",
      "phobiacat: {base:9, char:(0,1), subs: 0, sep: 0}\n",
      "phobiafoo: {base:9, char:(0,1), subs: 0, sep: 0}\n",
      "barbar: {base:6, char:(2,4), subs: 0, sep: 0}\n",
      "barapple: {base:8, char:(0,2), subs: 0, sep: 0}\n",
      "barpython: {base:9, char:(0,1), subs: 0, sep: 0}\n",
      "bardog: {base:6, char:(2,4), subs: 0, sep: 0}\n",
      "barcat: {base:6, char:(2,4), subs: 0, sep: 0}\n",
      "barfoo: {base:6, char:(2,4), subs: 0, sep: 0}\n",
      "appleapple: {base:10, char:(0,0), subs: 0, sep: 0}\n",
      "appledog: {base:8, char:(0,2), subs: 0, sep: 0}\n",
      "applecat: {base:8, char:(0,2), subs: 0, sep: 0}\n",
      "applefoo: {base:8, char:(0,2), subs: 0, sep: 0}\n",
      "pythondog: {base:9, char:(0,1), subs: 0, sep: 0}\n",
      "pythoncat: {base:9, char:(0,1), subs: 0, sep: 0}\n",
      "pythonfoo: {base:9, char:(0,1), subs: 0, sep: 0}\n",
      "dogdog: {base:6, char:(2,4), subs: 0, sep: 0}\n",
      "dogcat: {base:6, char:(2,4), subs: 0, sep: 0}\n",
      "catdog@123\n",
      "finished in: 32.731760025\n"
     ]
    }
   ],
   "source": [
    "# build the password generator\n",
    "passwd = ipassword(flatten=True, *args, **kwds)\n",
    "\n",
    "start = time.time()\n",
    "\n",
    "# solve\n",
    "for p in passwd:\n",
    "    x = compare(p)\n",
    "    if x:\n",
    "        print x\n",
    "        break\n",
    "\n",
    "end = time.time() - start\n",
    "print \"finished in: %s\" % end"
   ]
  },
  {
   "cell_type": "code",
   "execution_count": 3,
   "metadata": {
    "collapsed": false
   },
   "outputs": [
    {
     "name": "stdout",
     "output_type": "stream",
     "text": [
      "horsehorse: {base:10, char:(0,0), subs: 0, sep: 0}\n",
      "horsebar: {base:8, char:(0,2), subs: 0, sep: 0}\n",
      "horseapple: {base:10, char:(0,0), subs: 0, sep: 0}\n",
      "horsedog: {base:8, char:(0,2), subs: 0, sep: 0}\n",
      "horsecat: {base:8, char:(0,2), subs: 0, sep: 0}\n",
      "horsefoo: {base:8, char:(0,2), subs: 0, sep: 0}\n",
      "phobiabar: {base:9, char:(0,1), subs: 0, sep: 0}\n",
      "phobiadog: {base:9, char:(0,1), subs: 0, sep: 0}\n",
      "phobiacat: {base:9, char:(0,1), subs: 0, sep: 0}\n",
      "phobiafoo: {base:9, char:(0,1), subs: 0, sep: 0}\n",
      "barbar: {base:6, char:(2,4), subs: 0, sep: 0}\n",
      "barapple: {base:8, char:(0,2), subs: 0, sep: 0}\n",
      "barpython: {base:9, char:(0,1), subs: 0, sep: 0}\n",
      "bardog: {base:6, char:(2,4), subs: 0, sep: 0}\n",
      "barcat: {base:6, char:(2,4), subs: 0, sep: 0}\n",
      "barfoo: {base:6, char:(2,4), subs: 0, sep: 0}\n",
      "appleapple: {base:10, char:(0,0), subs: 0, sep: 0}\n",
      "appledog: {base:8, char:(0,2), subs: 0, sep: 0}\n",
      "applecat: {base:8, char:(0,2), subs: 0, sep: 0}\n",
      "applefoo: {base:8, char:(0,2), subs: 0, sep: 0}\n",
      "pythondog: {base:9, char:(0,1), subs: 0, sep: 0}\n",
      "pythoncat: {base:9, char:(0,1), subs: 0, sep: 0}\n",
      "pythonfoo: {base:9, char:(0,1), subs: 0, sep: 0}\n",
      "dogdog: {base:6, char:(2,4), subs: 0, sep: 0}\n",
      "dogcat: {base:6, char:(2,4), subs: 0, sep: 0}\n",
      "catdog@123\n",
      "finished in: 32.8478620052\n"
     ]
    }
   ],
   "source": [
    "# rebuild the password generator\n",
    "passwd = ipassword(flatten=True, *args, **kwds)\n",
    "\n",
    "start = time.time()\n",
    "\n",
    "# solve\n",
    "for x in itertools.imap(compare, passwd):\n",
    "    if x:\n",
    "        print x\n",
    "        break\n",
    "\n",
    "end = time.time() - start\n",
    "print \"finished in: %s\" % end"
   ]
  },
  {
   "cell_type": "code",
   "execution_count": null,
   "metadata": {
    "collapsed": false
   },
   "outputs": [],
   "source": [
    "# rebuild the password generator\n",
    "passwd = ipassword(flatten=True, *args, **kwds)\n",
    "\n",
    "start = time.time()\n",
    "\n",
    "# solve\n",
    "tp = Pool(50)\n",
    "for x in tp.imap_unordered(compare, passwd):\n",
    "    if x:\n",
    "        print x\n",
    "        break\n",
    "tp.close()\n",
    "tp.join()\n",
    "\n",
    "end = time.time() - start\n",
    "print \"finished in: %s\" % end"
   ]
  },
  {
   "cell_type": "markdown",
   "metadata": {},
   "source": [
    "(this takes a long time...)"
   ]
  },
  {
   "cell_type": "code",
   "execution_count": 4,
   "metadata": {
    "collapsed": true
   },
   "outputs": [],
   "source": [
    "\"\"\"\n",
    "some useful parallel iterated map constructs\n",
    "\"\"\"\n",
    "def icompare(pwds):\n",
    "    import itertools\n",
    "    res = itertools.imap(compare, pwds)\n",
    "    for x in res:\n",
    "        if x:\n",
    "            return x\n",
    "    return\n",
    "\n",
    "def uicompare(pwds, n=50):\n",
    "    from multiprocess.dummy import Pool\n",
    "    tp = Pool(n)\n",
    "    res = tp.imap_unordered(compare, pwds)\n",
    "    for x in res:\n",
    "        if x:\n",
    "            return x\n",
    "    return"
   ]
  },
  {
   "cell_type": "code",
   "execution_count": 5,
   "metadata": {
    "collapsed": false
   },
   "outputs": [
    {
     "name": "stdout",
     "output_type": "stream",
     "text": [
      "horsehorse: {base:10, char:(0,0), subs: 0, sep: 0}\n",
      "horsebar: {base:8, char:(0,2), subs: 0, sep: 0}\n",
      "horseapple: {base:10, char:(0,0), subs: 0, sep: 0}\n",
      "horsedog: {base:8, char:(0,2), subs: 0, sep: 0}\n",
      "horsecat: {base:8, char:(0,2), subs: 0, sep: 0}\n",
      "horsefoo: {base:8, char:(0,2), subs: 0, sep: 0}\n",
      "phobiabar: {base:9, char:(0,1), subs: 0, sep: 0}\n",
      "phobiadog: {base:9, char:(0,1), subs: 0, sep: 0}\n",
      "phobiacat: {base:9, char:(0,1), subs: 0, sep: 0}\n",
      "phobiafoo: {base:9, char:(0,1), subs: 0, sep: 0}\n",
      "barbar: {base:6, char:(2,4), subs: 0, sep: 0}\n",
      "barapple: {base:8, char:(0,2), subs: 0, sep: 0}\n",
      "barpython: {base:9, char:(0,1), subs: 0, sep: 0}\n",
      "bardog: {base:6, char:(2,4), subs: 0, sep: 0}\n",
      "barcat: {base:6, char:(2,4), subs: 0, sep: 0}\n",
      "barfoo: {base:6, char:(2,4), subs: 0, sep: 0}\n",
      "appleapple: {base:10, char:(0,0), subs: 0, sep: 0}\n",
      "appledog: {base:8, char:(0,2), subs: 0, sep: 0}\n",
      "applecat: {base:8, char:(0,2), subs: 0, sep: 0}\n",
      "applefoo: {base:8, char:(0,2), subs: 0, sep: 0}\n",
      "pythondog: {base:9, char:(0,1), subs: 0, sep: 0}\n",
      "pythoncat: {base:9, char:(0,1), subs: 0, sep: 0}\n",
      "pythonfoo: {base:9, char:(0,1), subs: 0, sep: 0}\n",
      "dogdog: {base:6, char:(2,4), subs: 0, sep: 0}\n",
      "dogcat: {base:6, char:(2,4), subs: 0, sep: 0}\n",
      "catdog@123\n",
      "finished in: 32.6554210186\n"
     ]
    }
   ],
   "source": [
    "# rebuild the password generator, this time don't flatten to a single interator\n",
    "passwd = ipassword(flatten=False, *args, **kwds)\n",
    "\n",
    "start = time.time()\n",
    "\n",
    "# solve\n",
    "for p in passwd:\n",
    "    for i in p:\n",
    "        x = compare(i)\n",
    "        if x:\n",
    "            print x\n",
    "            break\n",
    "    if x:\n",
    "        break\n",
    "\n",
    "\n",
    "end = time.time() - start\n",
    "print \"finished in: %s\" % end"
   ]
  },
  {
   "cell_type": "markdown",
   "metadata": {},
   "source": [
    "Can you find a looping pattern that significantly speeds up the time-to-solution?"
   ]
  },
  {
   "cell_type": "markdown",
   "metadata": {},
   "source": [
    "How different are your results when the cracker has a small delay time like:   `imap.setdelay(0.0001)`?"
   ]
  },
  {
   "cell_type": "code",
   "execution_count": null,
   "metadata": {
    "collapsed": true
   },
   "outputs": [],
   "source": []
  }
 ],
 "metadata": {
  "kernelspec": {
   "display_name": "Python 2",
   "language": "python",
   "name": "python2"
  },
  "language_info": {
   "codemirror_mode": {
    "name": "ipython",
    "version": 2
   },
   "file_extension": ".py",
   "mimetype": "text/x-python",
   "name": "python",
   "nbconvert_exporter": "python",
   "pygments_lexer": "ipython2",
   "version": "2.7.11"
  }
 },
 "nbformat": 4,
 "nbformat_minor": 0
}
